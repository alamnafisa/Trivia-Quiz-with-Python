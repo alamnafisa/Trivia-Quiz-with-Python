{
 "cells": [
  {
   "cell_type": "code",
   "execution_count": 1,
   "metadata": {},
   "outputs": [
    {
     "name": "stdout",
     "output_type": "stream",
     "text": [
      "Q1. Who discovered penicillin?\n",
      "Enter the Correct Answer:Alexander Flemin\n",
      "Correct, you scored 5 points!\n",
      "Q2. Who was the first woman to win a Nobel Prize (in 1903)?\n",
      "Enter the Correct Answer:Marie Curie\n",
      "Correct, you scored 5 points!\n",
      "Q3. What part of the atom has no electric charge?\n",
      "Enter the Correct Answer:Neutron\n",
      "Correct, you scored 5 points!\n",
      "Q4. What is the symbol of potassium\n",
      "Enter the Correct Answer:K\n",
      "Correct, you scored 5 points!\n",
      "Q5. What is meterology the study of?\n",
      "Enter the Correct Answer:The Weather\n",
      "Correct, you scored 5 points!\n",
      "Q6. Which planet is the hottest in the solar system?\n",
      "Enter the Correct Answer:Venus\n",
      "Correct, you scored 5 points!\n",
      "Q7. Which natural disaster is measured with a Richter scale?\n",
      "Enter the Correct Answer:Earthquakes\n",
      "Correct, you scored 5 points!\n",
      "Q8. What animals are pearls found in?\n",
      "Enter the Correct Answer:Oysters\n",
      "Correct, you scored 5 points!\n",
      "Q9. Which planet has the most gravity\n",
      "Enter the Correct Answer:Jupiter\n",
      "Correct, you scored 5 points!\n",
      "Q10. How many molecules of oxygen does ozone have?\n",
      "Enter the Correct Answer:3\n",
      "Correct, you scored 5 points!\n",
      "Final score is: 50\n"
     ]
    }
   ],
   "source": [
    "def my_littleprogram (x): \n",
    "    \n",
    "    quiz_table= x \n",
    "    score = 0\n",
    "\n",
    "    for i in quiz_table:\n",
    "        print (i)\n",
    "        answer= input (\"Enter the Correct Answer:\")\n",
    "    \n",
    "        if answer== quiz_table [i]:\n",
    "            score = score + 5\n",
    "            print (\"Correct, you scored 5 points!\")\n",
    "    \n",
    "        else:\n",
    "            score = score + 0\n",
    "            print (\"Wrong , you scored 0!\")\n",
    "\n",
    "    print (\"Final score is:\",score)\n",
    "\n",
    "quiz_table = {\n",
    "        'Q1. Who discovered penicillin?': \"Alexander Flemin\",\n",
    "        'Q2. Who was the first woman to win a Nobel Prize (in 1903)?': \"Marie Curie\",\n",
    "        'Q3. What part of the atom has no electric charge?':\"Neutron\",\n",
    "        'Q4. What is the symbol of potassium' : \"K\",    \n",
    "        'Q5. What is meterology the study of?': \"The Weather\",\n",
    "        'Q6. Which planet is the hottest in the solar system?': \"Venus\",\n",
    "        'Q7. Which natural disaster is measured with a Richter scale?': \"Earthquakes\",\n",
    "        'Q8. What animals are pearls found in?': \"Oysters\",\n",
    "        'Q9. Which planet has the most gravity': \"Jupiter\",\n",
    "        'Q10. How many molecules of oxygen does ozone have?': \"3\",    \n",
    "    }\n",
    "\n",
    "    \n",
    "my_littleprogram (quiz_table)"
   ]
  },
  {
   "cell_type": "code",
   "execution_count": null,
   "metadata": {},
   "outputs": [],
   "source": []
  }
 ],
 "metadata": {
  "kernelspec": {
   "display_name": "Python 3",
   "language": "python",
   "name": "python3"
  },
  "language_info": {
   "codemirror_mode": {
    "name": "ipython",
    "version": 3
   },
   "file_extension": ".py",
   "mimetype": "text/x-python",
   "name": "python",
   "nbconvert_exporter": "python",
   "pygments_lexer": "ipython3",
   "version": "3.8.5"
  }
 },
 "nbformat": 4,
 "nbformat_minor": 4
}
